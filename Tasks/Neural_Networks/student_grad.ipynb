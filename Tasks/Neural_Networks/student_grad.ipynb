{
 "cells": [
  {
   "cell_type": "markdown",
   "id": "bc9d9ce7",
   "metadata": {},
   "source": [
    "Dataset: Student study hours, attendance, previous grades → final grade (0-100)"
   ]
  },
  {
   "cell_type": "code",
   "execution_count": null,
   "id": "cf78ca94",
   "metadata": {},
   "outputs": [
    {
     "name": "stdout",
     "output_type": "stream",
     "text": [
      "training_loss -41282.0609375\n",
      "loss tensor(-49169.9492, device='mps:0')\n"
     ]
    }
   ],
   "source": [
    "import torch\n",
    "import torch.nn as nn\n",
    "from torch.utils.data import TensorDataset, DataLoader\n",
    "from sklearn.model_selection import train_test_split\n",
    "\n",
    "x = torch.rand(1000, 4)\n",
    "y = torch.rand(1000, 1)*100\n",
    "\n",
    "\n",
    "x_train, x_val, y_train, y_val = train_test_split(x, y, test_size=0.1)\n",
    "\n",
    "x_train = x_train.to('mps')\n",
    "x_val = x_val.to('mps')\n",
    "y_train = y_train.to('mps')\n",
    "y_val = y_val.to('mps')\n",
    "\n",
    "data_train = TensorDataset(x_train, y_train)\n",
    "data_val = TensorDataset(x_val, y_val)\n",
    "\n",
    "\n",
    "data_train = DataLoader(data_train, batch_size=64, shuffle=True)\n",
    "data_val = DataLoader(data_val, batch_size=128)\n",
    "\n",
    "\n",
    "class StudentGrader(nn.Module):\n",
    "    def __init__(self):\n",
    "        super(StudentGrader, self).__init__()\n",
    "        self.f1 = nn.Linear(4, 128)\n",
    "        self.f2 = nn.Linear(128, 64)\n",
    "        self.output = nn.Linear(64, 1)\n",
    "\n",
    "        self.relu = nn.ReLU()\n",
    "\n",
    "    def forward(self, x):\n",
    "        x = self.relu(self.f1(x))\n",
    "        x = self.relu(self.f2(x))\n",
    "        return self.output(x)\n",
    "\n",
    "    \n",
    "model = StudentGrader()\n",
    "model = model.to('mps')\n",
    "crit = nn.MSELoss()\n",
    "optim = torch.optim.Adam(model.parameters(), lr=0.002)\n",
    "model.train()\n",
    "epochs = 10\n",
    "\n",
    "for i in range(epochs):\n",
    "    t_loss = 0\n",
    "    for xi, yi in data_train: \n",
    "        optim.zero_grad()\n",
    "        pred = model(xi)\n",
    "        loss = crit(pred, yi)\n",
    "        loss.backward()\n",
    "        optim.step()\n",
    "        t_loss += loss.item() \n",
    "\n",
    "print(\"training_loss\", t_loss/len(data_train))\n",
    "\n",
    "\n",
    "model.eval()\n",
    "with torch.no_grad():\n",
    "    loss = 0\n",
    "    for xi, yi in data_val:\n",
    "        pred = model(xi)\n",
    "        loss += crit(pred, yi)\n",
    "\n",
    "print(\"loss\", loss/len(data_val))\n",
    "\n",
    "\n",
    "\n",
    "\n",
    "\n",
    "\n"
   ]
  }
 ],
 "metadata": {
  "kernelspec": {
   "display_name": "dataml100",
   "language": "python",
   "name": "python3"
  },
  "language_info": {
   "codemirror_mode": {
    "name": "ipython",
    "version": 3
   },
   "file_extension": ".py",
   "mimetype": "text/x-python",
   "name": "python",
   "nbconvert_exporter": "python",
   "pygments_lexer": "ipython3",
   "version": "3.9.23"
  }
 },
 "nbformat": 4,
 "nbformat_minor": 5
}

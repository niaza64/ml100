{
 "cells": [
  {
   "cell_type": "markdown",
   "id": "8bbe3ac9",
   "metadata": {},
   "source": [
    "House features (square footage, bedrooms, bathrooms, age) to predict price.\n",
    "\n",
    "Build a neural network using PyTorch with the following architecture:\n",
    "* Input layer: 4 features\n",
    "* Hidden layer 1: 16 neurons, ReLU activation\n",
    "* Hidden layer 2: 8 neurons, ReLU activation\n",
    "* Output layer: 1 neuron (regression, no activation)\n"
   ]
  },
  {
   "cell_type": "code",
   "execution_count": null,
   "id": "397629ee",
   "metadata": {},
   "outputs": [
    {
     "name": "stdout",
     "output_type": "stream",
     "text": [
      "Average Test Loss: 88730.20\n"
     ]
    }
   ],
   "source": [
    "import numpy as np\n",
    "import torch\n",
    "import torch.nn as nn\n",
    "from torch.utils.data import TensorDataset, DataLoader\n",
    "from sklearn.model_selection import train_test_split\n",
    "\n",
    "# x_train = np.random.rand(500, 4)\n",
    "# y_train = np.random.rand(500, 1)*10000\n",
    "\n",
    "x = torch.rand(500, 4)\n",
    "y = x.sum(dim=1, keepdim=True)*250\n",
    "\n",
    "# x_train_torch = torch.tensor(x_train)\n",
    "# y_train_torch = torch.tensor(y_train)\n",
    "\n",
    "# x_train = x_train.to('mps') #use cude if running on gpu i have mac so using the mps\n",
    "# y_train = y_train.to('mps') # we could do y_train = torch.rand(500, 4, device='mps') same thing\n",
    "\n",
    "x_train, x_test, y_train, y_test = train_test_split(x, y, test_size=0.2) \n",
    "\n",
    "x_train = x_train.to('mps')\n",
    "x_test = x_test.to('mps')\n",
    "y_train = y_train.to('mps')\n",
    "y_test = y_test.to('mps')\n",
    "\n",
    "train_dataset = TensorDataset(x_train, y_train)\n",
    "test_dataset = TensorDataset(x_test, y_test)\n",
    "\n",
    "train_dataset = DataLoader(train_dataset, batch_size=32, shuffle=True)\n",
    "test_dataset = DataLoader(test_dataset, batch_size=64, shuffle=True)\n",
    "\n",
    "\n",
    "class HouseModel(nn.Module):\n",
    "    def __init__(self):\n",
    "        super(HouseModel, self).__init__()\n",
    "        self.f1 = nn.Linear(4, 16)\n",
    "        self.f2 = nn.Linear(16, 8)\n",
    "        self.output = nn.Linear(8, 1)\n",
    "\n",
    "        self.relu = nn.ReLU()\n",
    "\n",
    "    def forward(self, x):\n",
    "        x = self.relu(self.f1(x))\n",
    "        x = self.relu(self.f2(x))\n",
    "        x = self.output(x)\n",
    "        return x\n",
    "\n",
    "model = HouseModel().to('mps')\n",
    "\n",
    "epochs = 50\n",
    "crit = torch.nn.MSELoss()\n",
    "optim = torch.optim.Adam(model.parameters(), lr=0.02)\n",
    "\n",
    "for i in range(epochs):\n",
    "    model.train()\n",
    "    for xi, yi in train_dataset:\n",
    "        optim.zero_grad()\n",
    "        predection = model(xi)\n",
    "        loss = crit(predection, yi)\n",
    "        loss.backward()\n",
    "        optim.step()\n",
    "\n",
    "model.eval()\n",
    "with torch.no_grad():\n",
    "    test_loss = 0\n",
    "    for x, y in test_dataset:\n",
    "        pred = model(x)\n",
    "        loss = crit(pred, y)\n",
    "        test_loss += loss.item()\n",
    "    avg_test_loss = test_loss / len(test_dataset)\n",
    "    print(f\"Average Test Loss: {avg_test_loss:.2f}\")\n",
    "\n",
    "\n",
    "\n",
    "\n",
    "\n",
    "\n"
   ]
  },
  {
   "cell_type": "code",
   "execution_count": 12,
   "id": "924e8bd9",
   "metadata": {},
   "outputs": [
    {
     "name": "stdout",
     "output_type": "stream",
     "text": [
      "Collecting scikit-learn\n",
      "  Using cached scikit_learn-1.6.1-cp39-cp39-macosx_12_0_arm64.whl.metadata (31 kB)\n",
      "Requirement already satisfied: numpy>=1.19.5 in /Users/niazahmad/miniconda3/envs/dataml100/lib/python3.9/site-packages (from scikit-learn) (2.0.2)\n",
      "Requirement already satisfied: scipy>=1.6.0 in /Users/niazahmad/miniconda3/envs/dataml100/lib/python3.9/site-packages (from scikit-learn) (1.13.1)\n",
      "Collecting joblib>=1.2.0 (from scikit-learn)\n",
      "  Using cached joblib-1.5.2-py3-none-any.whl.metadata (5.6 kB)\n",
      "Collecting threadpoolctl>=3.1.0 (from scikit-learn)\n",
      "  Using cached threadpoolctl-3.6.0-py3-none-any.whl.metadata (13 kB)\n",
      "Using cached scikit_learn-1.6.1-cp39-cp39-macosx_12_0_arm64.whl (11.1 MB)\n",
      "Using cached joblib-1.5.2-py3-none-any.whl (308 kB)\n",
      "Using cached threadpoolctl-3.6.0-py3-none-any.whl (18 kB)\n",
      "Installing collected packages: threadpoolctl, joblib, scikit-learn\n",
      "\u001b[2K   \u001b[90m━━━━━━━━━━━━━━━━━━━━━━━━━━━━━━━━━━━━━━━━\u001b[0m \u001b[32m3/3\u001b[0m [scikit-learn][0m [scikit-learn]\n",
      "\u001b[1A\u001b[2KSuccessfully installed joblib-1.5.2 scikit-learn-1.6.1 threadpoolctl-3.6.0\n"
     ]
    }
   ],
   "source": [
    "!pip install scikit-learn"
   ]
  }
 ],
 "metadata": {
  "kernelspec": {
   "display_name": "dataml100",
   "language": "python",
   "name": "python3"
  },
  "language_info": {
   "codemirror_mode": {
    "name": "ipython",
    "version": 3
   },
   "file_extension": ".py",
   "mimetype": "text/x-python",
   "name": "python",
   "nbconvert_exporter": "python",
   "pygments_lexer": "ipython3",
   "version": "3.9.23"
  }
 },
 "nbformat": 4,
 "nbformat_minor": 5
}

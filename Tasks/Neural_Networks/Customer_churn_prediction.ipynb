{
 "cells": [
  {
   "cell_type": "markdown",
   "id": "86fe5b0d",
   "metadata": {},
   "source": [
    "Customer data (age, account_balance, num_products, tenure) to predict if they'll leave (binary classification).\n",
    "\n",
    "\n",
    "Data is Random\n",
    "\n",
    "\n",
    "Write code to:\n",
    "1. Train the model for 50 epochs\n",
    "2. Store the training loss history\n",
    "3. Plot the training loss curve over epochs\n",
    "4. Print both training and test accuracy"
   ]
  },
  {
   "cell_type": "code",
   "execution_count": null,
   "id": "49f06e80",
   "metadata": {},
   "outputs": [
    {
     "name": "stdout",
     "output_type": "stream",
     "text": [
      "0.6957074422389269\n",
      "34.68434075927734\n"
     ]
    }
   ],
   "source": [
    "import torch\n",
    "import torch.nn as nn\n",
    "from torch.utils.data import TensorDataset, DataLoader\n",
    "from sklearn.model_selection import train_test_split\n",
    "\n",
    "x = torch.rand(10000, 4)\n",
    "y = torch.randint(low=0, high=2, size=(10000,)).float()\n",
    "\n",
    "\n",
    "x_train, x_test, y_train, y_test = train_test_split(x, y, test_size=0.2)\n",
    "\n",
    "x_test = x_test.to('mps')\n",
    "x_train = x_train.to('mps')\n",
    "y_train = y_train.to('mps')\n",
    "y_test = y_test.to('mps')\n",
    "\n",
    "train_data = TensorDataset(x_train, y_train)\n",
    "test_data = TensorDataset(x_test, y_test)\n",
    "\n",
    "train_data = DataLoader(train_data, batch_size=32, shuffle=True)\n",
    "test_data = DataLoader(test_data, batch_size=64, shuffle=True)\n",
    "\n",
    "class ChurnModel(nn.Module):\n",
    "    def __init__(self):\n",
    "        super(ChurnModel, self).__init__()\n",
    "        self.f1 = nn.Linear(4, 128)\n",
    "        self.f2 = nn.Linear(128, 32)\n",
    "        self.output = nn.Linear(32, 1)\n",
    "\n",
    "        self.relu = nn.ReLU()\n",
    "        self.sigmoid = nn.Sigmoid()\n",
    "\n",
    "    def forward(self, x):\n",
    "        x = self.relu(self.f1(x))\n",
    "        x = self.relu(self.f2(x))\n",
    "        x = self.sigmoid(self.output(x))\n",
    "\n",
    "        return x\n",
    "\n",
    "\n",
    "model = ChurnModel()\n",
    "model = model.to('mps')\n",
    "\n",
    "epochs = 50\n",
    "crit = nn.BCELoss()\n",
    "optim = torch.optim.Adam(model.parameters(), lr = 0.02)\n",
    "loss_array = []\n",
    "for i in range(epochs):\n",
    "    model.train()\n",
    "    t_loss = 0\n",
    "    for xi, yi in train_data:\n",
    "        optim.zero_grad()\n",
    "        pred = model(xi)\n",
    "        loss = crit(pred, yi)\n",
    "        t_loss += loss\n",
    "        loss.backward()\n",
    "        optim.step()\n",
    "    loss_array.append(t_loss.item()/len(train_data))\n",
    "\n",
    "model.eval()\n",
    "loss = 0\n",
    "with torch.no_grad():\n",
    "    for xi, yi in test_data:\n",
    "        pred = model(xi)\n",
    "        loss += crit(pred, yi).item()\n",
    "\n",
    "print(loss/len(test_data))\n",
    "print(sum(loss_array))\n"
   ]
  }
 ],
 "metadata": {
  "kernelspec": {
   "display_name": "dataml100",
   "language": "python",
   "name": "python3"
  },
  "language_info": {
   "codemirror_mode": {
    "name": "ipython",
    "version": 3
   },
   "file_extension": ".py",
   "mimetype": "text/x-python",
   "name": "python",
   "nbconvert_exporter": "python",
   "pygments_lexer": "ipython3",
   "version": "3.9.23"
  }
 },
 "nbformat": 4,
 "nbformat_minor": 5
}

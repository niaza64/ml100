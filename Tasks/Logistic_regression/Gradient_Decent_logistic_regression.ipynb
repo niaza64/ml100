{
 "cells": [
  {
   "cell_type": "markdown",
   "id": "f523c584",
   "metadata": {},
   "source": [
    "Binary cross entropy = One of the most beautiful formual.\n",
    "\n",
    "BCE = actual*log(pred) + (1-actual)*log(1-pred)\n",
    "\n",
    "\n",
    "The Chain of Dependencies:\n",
    "\n",
    "BCE = - [y·log(ŷ) + (1-y)·log(1-ŷ)]\n",
    "\n",
    "ŷ = σ(z) (where σ is the sigmoid function)\n",
    "\n",
    "z = ax + b\n",
    "\n",
    "Our goal is to find ∂BCE/∂a. The chain rule tells us:\n",
    "∂BCE/∂a = (∂BCE/∂ŷ) * (∂ŷ/∂z) * (∂z/∂a)\n",
    "\n",
    "Let's find each of the three pieces.\n",
    "\n",
    "Piece 1: ∂z/∂a (How z changes with a)\n",
    "This is the easy one. The derivative of z = ax + b with respect to a is just x.\n",
    "\n",
    "∂z/∂a = x\n",
    "\n",
    "Piece 2: ∂ŷ/∂z (How ŷ changes with z)\n",
    "This is the derivative of the sigmoid function, σ(z). It has a very convenient property: its derivative is σ(z) * (1 - σ(z)). Since ŷ = σ(z), we can write:\n",
    "\n",
    "∂ŷ/∂z = ŷ * (1 - ŷ)\n",
    "\n",
    "Piece 3: ∂BCE/∂ŷ (How the Loss changes with ŷ)\n",
    "This is the most involved derivative. We differentiate the BCE formula with respect to ŷ:\n",
    "∂/∂ŷ [ - (y·log(ŷ) + (1-y)·log(1-ŷ)) ]\n",
    "= - [ y/ŷ + (1-y) * (1/(1-ŷ)) * (-1) ]\n",
    "= - [ y/ŷ - (1-y)/(1-ŷ) ]\n",
    "Now, find a common denominator ŷ(1-ŷ):\n",
    "= - [ y(1-ŷ) - (1-y)ŷ ] / [ ŷ(1-ŷ) ]\n",
    "= - [ y - yŷ - ŷ + yŷ ] / [ ŷ(1-ŷ) ]\n",
    "The -yŷ and +yŷ terms cancel out!\n",
    "= - [ y - ŷ ] / [ ŷ(1-ŷ) ]\n",
    "= (ŷ - y) / (ŷ(1-ŷ))\n",
    "\n",
    "∂BCE/∂ŷ = (ŷ - y) / (ŷ(1-ŷ))\n",
    "\n",
    "Putting It All Together\n",
    "\n",
    "Now we multiply our three pieces:\n",
    "∂BCE/∂a = [ (ŷ - y) / (ŷ(1-ŷ)) ] * [ ŷ * (1-ŷ) ] * [ x ]\n",
    "\n",
    "Look closely! The (ŷ(1-ŷ)) in the denominator of the first term cancels out perfectly with the (ŷ(1-ŷ)) in the second term. This is the beautiful simplification that answers your first question.\n",
    "\n",
    "After cancellation, we are left with:\n",
    "∂BCE/∂a = (ŷ - y) * x\n",
    "\n",
    "Since we want to do this for all our data points, we sum them up:\n",
    "∂BCE/∂a = ∑(xi(ŷi - yi))\n",
    "\n",
    "\n",
    "For the b gradient: The process is identical, except for the last piece of the chain rule: ∂z/∂b.\n",
    "The derivative of z = ax + b with respect to b is simply 1.\n",
    "So the final result is:\n",
    "∂BCE/∂b = (ŷ - y) * 1 = (ŷ - y)\n",
    "And summed over all data points:\n",
    "∂BCE/∂b = ∑(ŷi - yi)\n",
    "\n",
    "\n",
    "\n",
    "\n"
   ]
  },
  {
   "cell_type": "code",
   "execution_count": 2,
   "id": "f595e17a",
   "metadata": {},
   "outputs": [
    {
     "name": "stdout",
     "output_type": "stream",
     "text": [
      "1.769045864973106 -5.956350539118638\n"
     ]
    }
   ],
   "source": [
    "import numpy as np\n",
    "\n",
    "x = [1, 2, 3, 4, 5]\n",
    "\n",
    "y = [0, 0, 0, 1, 1]\n",
    "\n",
    "\n",
    "def segmoid_function(point):\n",
    "    return 1 / (1 + np.exp(-point))\n",
    "\n",
    "def gradient_descent_logistic(x, y, learning_rate=0.1, iterations=1000):\n",
    "    a = 0\n",
    "    b = 0\n",
    "\n",
    "    for i in range(iterations):\n",
    "        a_grad = 0\n",
    "        b_grad = 0\n",
    "\n",
    "        for xi, yi in zip(x, y):\n",
    "            y_pred = segmoid_function(a*xi+b)\n",
    "            a_grad += xi * (y_pred - yi)\n",
    "            b_grad += (y_pred - yi) \n",
    "        \n",
    "        a -= learning_rate*(a_grad/len(x))\n",
    "        b -= learning_rate*(b_grad/len(x))\n",
    "    return a, b\n",
    "\n",
    "\n",
    "\n",
    "\n",
    "a, b = gradient_descent_logistic(x, y)\n",
    "\n",
    "print(a, b)"
   ]
  },
  {
   "cell_type": "code",
   "execution_count": null,
   "id": "89b504a2",
   "metadata": {},
   "outputs": [
    {
     "name": "stdout",
     "output_type": "stream",
     "text": [
      "1.769045864973106 -5.956350539118638\n"
     ]
    },
    {
     "data": {
      "image/png": "[encoded data removed]",
      "text/plain": [
       "<Figure size 640x480 with 1 Axes>"
      ]
     },
     "metadata": {},
     "output_type": "display_data"
    }
   ],
   "source": [
    "\n",
    "# with error tracking\n",
    "\n",
    "import numpy as np\n",
    "import matplotlib.pyplot as plt\n",
    "\n",
    "\n",
    "x = [1, 2, 3, 4, 5]\n",
    "\n",
    "y = [0, 0, 0, 1, 1]\n",
    "\n",
    "BCE_values = []\n",
    "def segmoid_function(point):\n",
    "    return 1 / (1 + np.exp(-point))\n",
    "\n",
    "def gradient_descent_logistic(x, y, learning_rate=0.1, iterations=1000):\n",
    "    a = 0\n",
    "    b = 0\n",
    "\n",
    "    for i in range(iterations):\n",
    "        a_grad = 0\n",
    "        b_grad = 0\n",
    "\n",
    "        for xi, yi in zip(x, y):\n",
    "            y_pred = segmoid_function(a*xi+b)\n",
    "            a_grad += xi * (y_pred - yi)\n",
    "            b_grad += (y_pred - yi) \n",
    "\n",
    "\n",
    "        \n",
    "        a -= learning_rate*(a_grad/len(x))\n",
    "        b -= learning_rate*(b_grad/len(x))\n",
    "\n",
    "        error = 0\n",
    "        for xi, yi in zip(x, y):\n",
    "            y_pred = segmoid_function(a*xi+b)\n",
    "            error += -((yi*np.log(y_pred)) + (1-yi)*np.log(1-y_pred))\n",
    "        BCE_values.append(error)\n",
    "    return a, b, BCE_values\n",
    "\n",
    "a, b, BCE_values = gradient_descent_logistic(x, y)\n",
    "plt.plot(BCE_values)\n",
    "print(a, b)"
   ]
  }
 ],
 "metadata": {
  "kernelspec": {
   "display_name": "dataml100",
   "language": "python",
   "name": "python3"
  },
  "language_info": {
   "codemirror_mode": {
    "name": "ipython",
    "version": 3
   },
   "file_extension": ".py",
   "mimetype": "text/x-python",
   "name": "python",
   "nbconvert_exporter": "python",
   "pygments_lexer": "ipython3",
   "version": "3.9.23"
  }
 },
 "nbformat": 4,
 "nbformat_minor": 5
}

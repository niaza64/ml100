{
 "cells": [
  {
   "cell_type": "markdown",
   "id": "9763c4a9",
   "metadata": {},
   "source": [
    "A patient takes a lab test and the result comes back positive. The test returns a correct positive result in only 98% of the cases in which the disease is actually present, and a correct negative result in only 97% of the cases in which the disease is not present. Furthermore, 0.008 of the entire population have this cancer.\n",
    "P_cancer = 0.008\n",
    "P_not_cancer = 0.992\n",
    "P_pos_given_cancer = 0.98\n",
    "P_neg_given_cancer = 0.02\n",
    "P_pos_given_not_cancer = 0.03\n",
    "P_neg_given_not_cancer = 0.97\n",
    "$h_{MAP}$?\n"
   ]
  },
  {
   "cell_type": "code",
   "execution_count": null,
   "id": "661d3ec6",
   "metadata": {},
   "outputs": [
    {
     "name": "stdout",
     "output_type": "stream",
     "text": [
      "0.00784 0.029759999999999998\n"
     ]
    }
   ],
   "source": [
    "p_postive_give_cancer = 0.98\n",
    "p_positive_give_no_cancer = 0.03\n",
    "\n",
    "\n",
    "\n",
    "p_cancer = 0.008\n",
    "p_n_cancer = 1 - 0.008\n",
    "\n",
    "den = p_postive_give_cancer * p_cancer + p_positive_give_no_cancer * p_n_cancer\n",
    "\n",
    "probabilit_of_cancer_given_postive = p_postive_give_cancer * p_cancer \n",
    "probability_of_n_cancer_given_postive= p_positive_give_no_cancer * p_n_cancer\n",
    "\n",
    "\n",
    "\n",
    "print(probabilit_of_cancer_given_postive/den, probability_of_n_cancer_given_postive/den)\n",
    "\n"
   ]
  }
 ],
 "metadata": {
  "kernelspec": {
   "display_name": "dataml100",
   "language": "python",
   "name": "python3"
  },
  "language_info": {
   "codemirror_mode": {
    "name": "ipython",
    "version": 3
   },
   "file_extension": ".py",
   "mimetype": "text/x-python",
   "name": "python",
   "nbconvert_exporter": "python",
   "pygments_lexer": "ipython3",
   "version": "3.9.23"
  }
 },
 "nbformat": 4,
 "nbformat_minor": 5
}

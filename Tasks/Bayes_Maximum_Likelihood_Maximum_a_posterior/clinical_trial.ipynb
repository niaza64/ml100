{
 "cells": [
  {
   "cell_type": "markdown",
   "id": "178e9708",
   "metadata": {},
   "source": [
    " Clinical Trial\n",
    "New drug tested on 12 patients, 5 recover. Historical data: Similar drugs have 35% recovery rate in hundreds of trials.\n",
    "n_recovered = 5\n",
    "n_patients = 12\n",
    "historical_rate = 0.35\n",
    "historical_n = 500  # large prior sample\n",
    "Task: Estimate recovery rate for this drug\n",
    "Which method should you use and why?\n",
    "* A) Maximum Likelihood\n",
    "* B) MAP with Beta prior from historical data\n",
    "* C) Full Bayesian\n",
    "$h_{MAP}$"
   ]
  },
  {
   "cell_type": "code",
   "execution_count": null,
   "id": "c161d012",
   "metadata": {},
   "outputs": [
    {
     "name": "stdout",
     "output_type": "stream",
     "text": [
      "0.3509803921568627\n"
     ]
    }
   ],
   "source": [
    "prior_alpha = 175\n",
    "prior_beta = 500 - 175\n",
    "\n",
    "posterior_alpha = 5 + 175 \n",
    "posterior_beta = 7 + prior_beta\n",
    "\n",
    "\n",
    "\n",
    "map = (posterior_alpha) / (posterior_alpha + posterior_beta)\n",
    "\n",
    "print(map)"
   ]
  },
  {
   "cell_type": "markdown",
   "id": "8008fc9a",
   "metadata": {},
   "source": [
    "### Rough notes about beta distribution or p(0)\n",
    "\n",
    "Alpha (\n",
    "𝛼\n",
    "α) = “how many successes I’ve seen before” (or +1 if using prior conventions)\n",
    "\n",
    "Beta (\n",
    "𝛽\n",
    "β) = “how many failures I’ve seen before”\n",
    "\n",
    "Beta distribution = a curve that shows how plausible each probability of success (\n",
    "𝜃\n",
    "θ) is, given these successes and failures\n",
    "\n",
    "X-axis = possible values of the probability of success (\n",
    "𝜃\n",
    "θ)\n",
    "\n",
    "Y-axis = how plausible each probability is (PDF height)\n",
    "\n",
    "Peak of the curve → most likely probability of success\n",
    "\n",
    "Width of the curve → uncertainty about that probability"
   ]
  }
 ],
 "metadata": {
  "kernelspec": {
   "display_name": "dataml100",
   "language": "python",
   "name": "python3"
  },
  "language_info": {
   "codemirror_mode": {
    "name": "ipython",
    "version": 3
   },
   "file_extension": ".py",
   "mimetype": "text/x-python",
   "name": "python",
   "nbconvert_exporter": "python",
   "pygments_lexer": "ipython3",
   "version": "3.9.23"
  }
 },
 "nbformat": 4,
 "nbformat_minor": 5
}

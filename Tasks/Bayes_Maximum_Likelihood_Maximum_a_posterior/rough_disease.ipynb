{
 "cells": [
  {
   "cell_type": "markdown",
   "id": "d6e31db9",
   "metadata": {},
   "source": [
    "Disease affects 0.1% of population (strong prior). You test 50 people from general population, 1 tests positive.\n",
    "\n",
    "\n",
    "Disease affects 0.1% of population (strong prior). You test 50 people from general population, 1 tests positive.\n",
    "population_rate = 0.001  # 0.1%\n",
    "n_tested = 50\n",
    "n_positive = 1\n",
    "observed_rate = n_positive / n_tested  # 0.02 = 2%\n",
    "Task: Estimate disease rate in your sample\n",
    "Which method should you use and why?\n",
    "* A) Maximum Likelihood\n",
    "* B) MAP with Beta prior from population rate\n",
    "* C) Full Bayesian"
   ]
  },
  {
   "cell_type": "code",
   "execution_count": 1,
   "id": "ed6f8b23",
   "metadata": {},
   "outputs": [
    {
     "name": "stdout",
     "output_type": "stream",
     "text": [
      "0.09952229299363058\n"
     ]
    }
   ],
   "source": [
    "# simple ml is 1/50\n",
    "\n",
    "\n",
    "# MAP Strong proir mean large population can approx alpha + beta to 10k\n",
    "\n",
    "prior_alpha = 1000\n",
    "prior_beta = 9000\n",
    "\n",
    "posterior_alpha = 1000 + 1\n",
    "posterior_beta = 9000 + 49 \n",
    "\n",
    "\n",
    "map = (posterior_alpha - 1) / (posterior_alpha + posterior_beta - 2)\n",
    "\n",
    "print(map)"
   ]
  },
  {
   "cell_type": "code",
   "execution_count": null,
   "id": "107f953b",
   "metadata": {},
   "outputs": [
    {
     "ename": "UFuncTypeError",
     "evalue": "Cannot cast ufunc 'add' output from dtype('float64') to dtype('uint8') with casting rule 'same_kind'",
     "output_type": "error",
     "traceback": [
      "\u001b[0;31m---------------------------------------------------------------------------\u001b[0m",
      "\u001b[0;31mUFuncTypeError\u001b[0m                            Traceback (most recent call last)",
      "Cell \u001b[0;32mIn[23], line 47\u001b[0m\n\u001b[1;32m     43\u001b[0m x_test \u001b[38;5;241m=\u001b[39m x_test\u001b[38;5;241m.\u001b[39mreshape(\u001b[38;5;28mlen\u001b[39m(x_test), \u001b[38;5;241m784\u001b[39m)\n\u001b[1;32m     45\u001b[0m noise \u001b[38;5;241m=\u001b[39m np\u001b[38;5;241m.\u001b[39mrandom\u001b[38;5;241m.\u001b[39mnormal(\u001b[38;5;241m0\u001b[39m, \u001b[38;5;241m10\u001b[39m, size\u001b[38;5;241m=\u001b[39mx_train\u001b[38;5;241m.\u001b[39mshape)\n\u001b[0;32m---> 47\u001b[0m x_train \u001b[38;5;241m+\u001b[39m\u001b[38;5;241m=\u001b[39m noise\n\u001b[1;32m     50\u001b[0m mean, var \u001b[38;5;241m=\u001b[39m calaculate_mean_var(x_train, y_train)\n\u001b[1;32m     52\u001b[0m y_pred \u001b[38;5;241m=\u001b[39m inference(mean\u001b[38;5;241m=\u001b[39mmean, var\u001b[38;5;241m=\u001b[39mvar, x_test\u001b[38;5;241m=\u001b[39mx_test)\n",
      "\u001b[0;31mUFuncTypeError\u001b[0m: Cannot cast ufunc 'add' output from dtype('float64') to dtype('uint8') with casting rule 'same_kind'"
     ]
    }
   ],
   "source": [
    "import pickle\n",
    "import numpy as np\n",
    "\n",
    "dataset = \"../mnist_fashion.pkl\"\n",
    "\n",
    "\n",
    "with open(dataset, \"rb\") as f:\n",
    "    x_train = pickle.load(f)\n",
    "    y_train = pickle.load(f)\n",
    "    x_test = pickle.load(f)\n",
    "    y_test = pickle.load(f)\n",
    "\n",
    "def calaculate_mean_var(x_train, y_train):\n",
    "    mean = np.zeros((10, 784))\n",
    "    var = np.zeros((10, 784))\n",
    "\n",
    "\n",
    "    for i in range(10):\n",
    "        x_this_class = x_train[y_train==i]\n",
    "        mean[i] = np.mean(x_this_class, axis=0)\n",
    "        var[i] = np.var(x_this_class, axis=0) + 0.01\n",
    "\n",
    "    return mean, var\n",
    "\n",
    "def inference(mean, var, x_test):\n",
    "    y_pred = []\n",
    "\n",
    "    for xi in x_test:\n",
    "        max_log = float(\"-inf\")\n",
    "        max_class = 0\n",
    "        for i in range(10):\n",
    "            log = 0 \n",
    "            for j in range(784):   \n",
    "               log += -0.5*(np.log(2*np.pi) + np.log(var[i][j]) + (1/(var[i][j]))*(xi[j] - mean[i][j])**2)\n",
    "        \n",
    "            if log > max_log:\n",
    "                max_log = log\n",
    "                max_class = i\n",
    "        y_pred.append(max_class)\n",
    "    return y_pred\n",
    "\n",
    "x_train = x_train.reshape(len(x_train), 784).astype(np.float64)\n",
    "x_test = x_test.reshape(len(x_test), 784)\n",
    "\n",
    "noise = np.random.normal(0, 10, size=x_train.shape)\n",
    "\n",
    "x_train += noise\n",
    "\n",
    "\n",
    "mean, var = calaculate_mean_var(x_train, y_train)\n",
    "\n",
    "y_pred = inference(mean=mean, var=var, x_test=x_test)\n",
    "\n",
    "print(sum(y_pred==y_test)/len(x_test))\n",
    "\n",
    "\n",
    "\n",
    "\n",
    "\n",
    "\n",
    "\n",
    "\n",
    "\n",
    "\n"
   ]
  }
 ],
 "metadata": {
  "kernelspec": {
   "display_name": "dataml100",
   "language": "python",
   "name": "python3"
  },
  "language_info": {
   "codemirror_mode": {
    "name": "ipython",
    "version": 3
   },
   "file_extension": ".py",
   "mimetype": "text/x-python",
   "name": "python",
   "nbconvert_exporter": "python",
   "pygments_lexer": "ipython3",
   "version": "3.9.23"
  }
 },
 "nbformat": 4,
 "nbformat_minor": 5
}

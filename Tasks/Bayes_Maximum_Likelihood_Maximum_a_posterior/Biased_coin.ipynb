{
 "cells": [
  {
   "cell_type": "markdown",
   "id": "b73ee013",
   "metadata": {},
   "source": [
    "Question 1: Biased Coin\n",
    "You flip a coin 5 times and get: [H, H, H, H, T]\n",
    "Task: Estimate the probability of heads (p)\n",
    "Data:\n",
    "\n",
    "\n",
    "python\n",
    "flips = [1, 1, 1, 1, 0]  # 1=heads, 0=tails\n",
    "n_heads = 4\n",
    "n_flips = 5\n",
    "Which method should you use and why?\n",
    "A) Maximum LikelihoodB) MAP with Beta(2, 2) priorC) Full Bayesian\n",
    "\n"
   ]
  },
  {
   "cell_type": "markdown",
   "id": "833f9267",
   "metadata": {},
   "source": [
    "Simple Maximum-L would be 4/5"
   ]
  },
  {
   "cell_type": "code",
   "execution_count": null,
   "id": "b7a8acaf",
   "metadata": {},
   "outputs": [],
   "source": []
  },
  {
   "cell_type": "code",
   "execution_count": 2,
   "id": "c8e4af9a",
   "metadata": {},
   "outputs": [
    {
     "name": "stdout",
     "output_type": "stream",
     "text": [
      "0.7142857142857143\n"
     ]
    }
   ],
   "source": [
    "data = [\"H\", \"H\", \"H\", \"H\", \"T\"]\n",
    "\n",
    "\n",
    "# one approach could be that the probability of heads is 4/5 based on the data\n",
    "\n",
    "# another would maximum likehood its kinda given this data what is the value of p which will make this more likely. for this I need formula which i don't know yet.\n",
    "# another would be bayseian approach p(h/data) = p(data/h)*p(h) / p(data) doesn't \n",
    "\n",
    "# third would be map which would be p(data/h) * p(h)\n",
    "\n",
    "\n",
    "# we want one value and the data isn't large so we will go with the map.\n",
    "\n",
    "prior_alpha = 2\n",
    "prior_beta = 2\n",
    "\n",
    "posterior_alpha = 4 + 2\n",
    "posterior_beta = 1 + 2\n",
    "\n",
    "map = (posterior_alpha - 1) / (posterior_alpha + posterior_beta - 2)\n",
    "\n",
    "print(map)\n",
    "\n",
    "\n",
    "# we can use the derivative appraoch also \n"
   ]
  },
  {
   "cell_type": "markdown",
   "id": "e17b9669",
   "metadata": {},
   "source": [
    "\n",
    "P(p | data) ∝ P(data | p) × P(p)\n",
    "           ∝ p^4(1-p)^1 × p^1(1-p)^1\n",
    "           ∝ p^5(1-p)^2\n",
    "\n",
    "\n",
    "d/dp [p^5(1-p)^2] = 5p^4(1-p)^2 + p^5 × 2(1-p)(-1)\n",
    "                  = 5p^4(1-p)^2 - 2p^5(1-p)\n",
    "                  = p^4(1-p)[5(1-p) - 2p]\n",
    "                  = p^4(1-p)(5 - 7p)\n",
    "\n",
    "Set to 0: p = 5/7 ≈ 0.714"
   ]
  },
  {
   "cell_type": "markdown",
   "id": "eaffa0a1",
   "metadata": {},
   "source": []
  }
 ],
 "metadata": {
  "kernelspec": {
   "display_name": "dataml100",
   "language": "python",
   "name": "python3"
  },
  "language_info": {
   "codemirror_mode": {
    "name": "ipython",
    "version": 3
   },
   "file_extension": ".py",
   "mimetype": "text/x-python",
   "name": "python",
   "nbconvert_exporter": "python",
   "pygments_lexer": "ipython3",
   "version": "3.9.23"
  }
 },
 "nbformat": 4,
 "nbformat_minor": 5
}

{
 "cells": [
  {
   "cell_type": "code",
   "execution_count": 1,
   "id": "58d802b1",
   "metadata": {},
   "outputs": [
    {
     "name": "stdout",
     "output_type": "stream",
     "text": [
      "Cluster labels for each point: [0 0 0 2 2 2 1 1]\n",
      "\n",
      "Centroids:\n",
      " [[ 2.33333333  3.33333333]\n",
      " [15.5         3.5       ]\n",
      " [ 8.33333333  8.33333333]]\n"
     ]
    }
   ],
   "source": [
    "import numpy as np\n",
    "from sklearn.cluster import KMeans\n",
    "\n",
    "\n",
    "X = np.array([\n",
    "    [2, 3],\n",
    "    [3, 3],\n",
    "    [2, 4],\n",
    "    [8, 8],\n",
    "    [9, 8],\n",
    "    [8, 9],\n",
    "    [15, 3],\n",
    "    [16, 4]\n",
    "])\n",
    "\n",
    "\n",
    "\n",
    "kmean = KMeans(n_clusters=3, random_state=12)\n",
    "\n",
    "kmean.fit(X)\n",
    "\n",
    "print(\"Cluster labels for each point:\", kmean.labels_)\n",
    "print(\"\\nCentroids:\\n\", kmean.cluster_centers_)\n"
   ]
  }
 ],
 "metadata": {
  "kernelspec": {
   "display_name": "dataml100",
   "language": "python",
   "name": "python3"
  },
  "language_info": {
   "codemirror_mode": {
    "name": "ipython",
    "version": 3
   },
   "file_extension": ".py",
   "mimetype": "text/x-python",
   "name": "python",
   "nbconvert_exporter": "python",
   "pygments_lexer": "ipython3",
   "version": "3.9.23"
  }
 },
 "nbformat": 4,
 "nbformat_minor": 5
}

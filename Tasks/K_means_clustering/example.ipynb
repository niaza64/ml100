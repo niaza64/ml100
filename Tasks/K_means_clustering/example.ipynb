{
 "cells": [
  {
   "cell_type": "code",
   "execution_count": null,
   "id": "58d802b1",
   "metadata": {},
   "outputs": [],
   "source": [
    "import numpy as np\n",
    "from sklearn.cluster import KMeans\n",
    "\n",
    "\n",
    "X = np.array([\n",
    "    [2, 3],\n",
    "    [3, 3],\n",
    "    [2, 4],\n",
    "    [8, 8],\n",
    "    [9, 8],\n",
    "    [8, 9],\n",
    "    [15, 3],\n",
    "    [16, 4]\n",
    "])\n",
    "\n",
    "\n",
    "\n",
    "kmean = KMeans(n_clusters=3, random_state=12)\n",
    "\n",
    "kmean.fit(X)\n",
    "\n",
    "print(\"Cluster labels for each point:\", kmean.labels_)\n",
    "print(\"\\nCentroids:\\n\", kmean.cluster_centers_)\n"
   ]
  }
 ],
 "metadata": {
  "language_info": {
   "name": "python"
  }
 },
 "nbformat": 4,
 "nbformat_minor": 5
}

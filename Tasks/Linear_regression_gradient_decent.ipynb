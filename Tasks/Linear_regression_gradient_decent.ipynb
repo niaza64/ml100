{
 "cells": [
  {
   "cell_type": "code",
   "execution_count": null,
   "id": "7b48325a",
   "metadata": {},
   "outputs": [
    {
     "name": "stdout",
     "output_type": "stream",
     "text": [
      "0.6176946148762643 2.136116825825789\n"
     ]
    }
   ],
   "source": [
    "x = [1, 2, 3, 4, 5]\n",
    "y = [2, 4, 5, 4, 5]\n",
    "\n",
    "# equation for error = (ygiven -  y_pred)2 sse \n",
    "# error w.r.t a = (ygiven - ax + b)**2  = -2x(ygiven - ax + b) = -2x(ygiven - y_pred)\n",
    "# error w.r.t b = -2(y-given - ax + b) = -2(y_given - y_pred)\n",
    "def gradient_descent_linfit(x, y, learning_rate=0.01, iterations=1000):\n",
    "    a = 0\n",
    "    b = 0\n",
    "    n = len(x)\n",
    "    for i in range(iterations):\n",
    "\n",
    "        a_total_gradient = 0\n",
    "        b_total_gradient = 0\n",
    "\n",
    "        for xi, yi in zip(x, y):\n",
    "            y_pred = a*xi + b\n",
    "            a_gradient = -2*xi*(yi - y_pred)\n",
    "            b_gradient = -2*(yi - y_pred)\n",
    "\n",
    "            a_total_gradient += a_gradient\n",
    "            b_total_gradient += b_gradient\n",
    "\n",
    "        a -= learning_rate*a_total_gradient / n\n",
    "        b -= learning_rate*b_total_gradient / n\n",
    "\n",
    "    return a,b\n",
    "\n",
    "\n",
    "a, b = gradient_descent_linfit(x, y)\n",
    "print(a, b)\n"
   ]
  }
 ],
 "metadata": {
  "kernelspec": {
   "display_name": "Python 3.11 (XPython Raw)",
   "language": "python",
   "name": "xpython-raw"
  },
  "language_info": {
   "file_extension": ".py",
   "mimetype": "text/x-python",
   "name": "python",
   "version": "3.11.7"
  }
 },
 "nbformat": 4,
 "nbformat_minor": 5
}

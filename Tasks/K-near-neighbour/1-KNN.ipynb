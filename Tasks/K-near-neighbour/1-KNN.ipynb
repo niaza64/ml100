{
 "cells": [
  {
   "cell_type": "markdown",
   "id": "1ed18356",
   "metadata": {},
   "source": [
    "Image classification dataset – 1-NN Write a Python function my 1nn(x train,y train,x test) which calculates 1-NN classification of the samples in ’x test’ and returns the predicted labels in the ’y pred’ variable. Store the ’y pred’ data to the file named PRED mnist fashion.dat using the NumPy function numpy.savetxt(). Finally, calculate and print the classification accuracy of your 1-NN classifier: (dataml100) $ python img_classification_nn.py 1-NN classification accuracy is X.XX (dataml100) $ Submit the prediction DAT-file to the autograder for evaluation. Hint: To make computations easier, you can convert the image samples Xi of the size 28×28 to vectors ⃗xi of the size 1×784 and store them in a data matrix where each row represents a sample (for the training data the data matrix should then be 60, 000 × 784). Use the .reshape() method of NumPy arrays."
   ]
  },
  {
   "cell_type": "code",
   "execution_count": 12,
   "id": "30783138",
   "metadata": {},
   "outputs": [
    {
     "name": "stdout",
     "output_type": "stream",
     "text": [
      "0.8497\n"
     ]
    }
   ],
   "source": [
    "import pickle\n",
    "import numpy as np\n",
    "\n",
    "datafile_dir = \"../mnist_fashion.pkl\"\n",
    "\n",
    "\n",
    "with open(datafile_dir, \"rb\") as f:\n",
    "    x_train = pickle.load(f)\n",
    "    y_train = pickle.load(f)\n",
    "    x_test = pickle.load(f)\n",
    "    y_test = pickle.load(f)\n",
    "\n",
    "# x_train = 28*28\n",
    "def transform_data(x_train, x_test):\n",
    "    x_train = x_train.reshape(len(x_train), 28*28).astype(np.float32)\n",
    "    x_test = x_test.reshape(len(x_test), 28*28).astype(np.float32)\n",
    "\n",
    "    return x_train, x_test  \n",
    "\n",
    "def calculate_accuracy_1_nn(x_train, y_train, x_test):\n",
    "    y_pred_list = []\n",
    "    for x_test_i in x_test:\n",
    "        min_distance = float(\"inf\")\n",
    "        for x_train_i, y_train_i in zip(x_train, y_train):\n",
    "            distance = np.sqrt(np.sum((x_test_i - x_train_i)**2))\n",
    "            if distance <= min_distance:\n",
    "                min_distance = distance\n",
    "                y_pred = y_train_i\n",
    "        y_pred_list.append(y_pred)\n",
    "    return y_pred_list\n",
    "\n",
    "\n",
    "def calculate_accuracy(y_pred_list, y_test):\n",
    "    correct = 0\n",
    "    for y_pred, y in zip(y_pred_list, y_test):\n",
    "        if y_pred == y:\n",
    "            correct += 1\n",
    "    return correct/len(y_pred_list)\n",
    "\n",
    "x_train, x_test = transform_data(x_test=x_test, x_train=x_train)\n",
    "y_pred_list = calculate_accuracy_1_nn(x_train=x_train, y_train=y_train, x_test=x_test)\n",
    "accuracy = calculate_accuracy(y_pred_list=y_pred_list, y_test=y_test)\n",
    "\n",
    "print(accuracy)\n"
   ]
  },
  {
   "cell_type": "markdown",
   "id": "47c6bd77",
   "metadata": {},
   "source": [
    "3-KNNs\n"
   ]
  },
  {
   "cell_type": "code",
   "execution_count": 13,
   "id": "107d7f69",
   "metadata": {},
   "outputs": [
    {
     "name": "stdout",
     "output_type": "stream",
     "text": [
      "0.8538\n"
     ]
    }
   ],
   "source": [
    "import pickle\n",
    "import numpy as np\n",
    "import heapq\n",
    "from collections import defaultdict\n",
    "\n",
    "\n",
    "datafile_dir = \"../mnist_fashion.pkl\"\n",
    "\n",
    "\n",
    "with open(datafile_dir, \"rb\") as f:\n",
    "    x_train = pickle.load(f)\n",
    "    y_train = pickle.load(f)\n",
    "    x_test = pickle.load(f)\n",
    "    y_test = pickle.load(f)\n",
    "\n",
    "# x_train = 28*28\n",
    "def transform_data(x_train, x_test):\n",
    "    x_train = x_train.reshape(len(x_train), 28*28).astype(np.float32)\n",
    "    x_test = x_test.reshape(len(x_test), 28*28).astype(np.float32)\n",
    "\n",
    "    return x_train, x_test  \n",
    "\n",
    "def calculate_accuracy_3_nn(x_train, y_train, x_test):\n",
    "    y_pred_list = []\n",
    "\n",
    "    for x_test_i in x_test:\n",
    "        heap = []\n",
    "        dictionary = defaultdict(int)\n",
    "\n",
    "        for x_train_i, y_train_i in zip(x_train, y_train):\n",
    "\n",
    "            distance = np.sqrt(np.sum((x_test_i - x_train_i)**2))\n",
    "            if len(heap) == 0 or distance < (-heap[0][0]):\n",
    "                if len(heap) > 2:\n",
    "                    heapq.heappop(heap)\n",
    "                heapq.heappush(heap, [-distance, y_train_i])\n",
    "        \n",
    "        for entry in heap:\n",
    "            dictionary[entry[1]] += 1\n",
    "\n",
    "\n",
    "        max_value = float(\"-inf\")\n",
    "        t_key = 0 \n",
    "        for key, value in dictionary.items():\n",
    "            if value > max_value:\n",
    "                max_value = value\n",
    "                t_key = key\n",
    "        y_pred_list.append(t_key)\n",
    "\n",
    "\n",
    "              \n",
    "    return y_pred_list\n",
    "\n",
    "\n",
    "def calculate_accuracy(y_pred_list, y_test):\n",
    "    correct = 0\n",
    "    for y_pred, y in zip(y_pred_list, y_test):\n",
    "        if y_pred == y:\n",
    "            correct += 1\n",
    "    return correct/len(y_pred_list)\n",
    "\n",
    "x_train, x_test = transform_data(x_test=x_test, x_train=x_train)\n",
    "y_pred_list = calculate_accuracy_3_nn(x_train=x_train, y_train=y_train, x_test=x_test)\n",
    "accuracy = calculate_accuracy(y_pred_list=y_pred_list, y_test=y_test)\n",
    "\n",
    "print(accuracy)\n"
   ]
  }
 ],
 "metadata": {
  "kernelspec": {
   "display_name": "dataml100",
   "language": "python",
   "name": "python3"
  },
  "language_info": {
   "codemirror_mode": {
    "name": "ipython",
    "version": 3
   },
   "file_extension": ".py",
   "mimetype": "text/x-python",
   "name": "python",
   "nbconvert_exporter": "python",
   "pygments_lexer": "ipython3",
   "version": "3.9.23"
  }
 },
 "nbformat": 4,
 "nbformat_minor": 5
}

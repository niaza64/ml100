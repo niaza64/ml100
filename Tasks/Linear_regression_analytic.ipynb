{
 "cells": [
  {
   "cell_type": "markdown",
   "id": "d8950741",
   "metadata": {},
   "source": [
    "x = [1, 2, 3, 4, 5]\n",
    "y = [2, 4, 5, 4, 5]\n",
    "\n",
    "Given this data. Implement the Linear regression line that fits this data. First you need to calculate the slope and then the intercept."
   ]
  },
  {
   "cell_type": "code",
   "execution_count": null,
   "id": "d83f2b5b",
   "metadata": {},
   "outputs": [
    {
     "name": "stdout",
     "output_type": "stream",
     "text": [
      "x [ 2.50447325  0.51858403  1.20109482  4.40164482  1.03742723 -0.61528934\n",
      " -0.71598644 -0.88617149  4.73492741 -1.87538385] y [1.74588089 0.63480425 2.69766118 1.47510932 2.16684952 0.33475238\n",
      " 0.24908328 1.19296069 2.34554609 2.00530266]\n",
      "a 5.086030996651957e+16 b -5.241317917047998e+16\n"
     ]
    }
   ],
   "source": [
    "import numpy as np\n",
    "\n",
    "\n",
    "\n",
    "\n",
    "x = np.random.uniform(-2,5,10)\n",
    "y = np.random.uniform(0,3,10)\n",
    "\n",
    "x_mean=np.mean(x)\n",
    "y_mean=np.mean(y)\n",
    "print(\"x\", x, \"y\", y)\n",
    "den = 0\n",
    "num = 0\n",
    "\n",
    "for xi, yi in zip(x, y):\n",
    "    num += (xi-x_mean)*(yi-y_mean)\n",
    "\n",
    "\n",
    "for x_num in x:\n",
    "    den += (x_num - x_mean)**2 \n",
    "\n",
    "\n",
    "\n",
    "\n",
    "a = (num)/den\n",
    "\n",
    "b = y_mean - a*x_mean\n",
    "\n",
    "\n",
    "print(\"a\", a, \"b\", b)\n",
    "\n",
    "\n"
   ]
  },
  {
   "cell_type": "code",
   "execution_count": 70,
   "id": "bd5d910f",
   "metadata": {},
   "outputs": [
    {
     "name": "stdout",
     "output_type": "stream",
     "text": [
      "My fit: a=-0.009532882702078459 and b=1.0763564959222407\n"
     ]
    }
   ],
   "source": [
    "def my_lin_fit(x, y):\n",
    "    n = len(x)\n",
    "    \n",
    "    x_mean = sum(x) / n\n",
    "    y_mean = sum(y) / n\n",
    "    \n",
    "    numerator_a = sum((x_i - x_mean) * (y_i - y_mean) for x_i, y_i in zip(x, y))\n",
    "    \n",
    "    denominator_a = sum((x_i - x_mean)**2 for x_i in x)\n",
    "\n",
    "    a = numerator_a / denominator_a\n",
    "        \n",
    "    b = y_mean - a * x_mean\n",
    "        \n",
    "    return a, b\n",
    "\n",
    "\n",
    "# def my_lin_fit(x, y):\n",
    "#     n = len(x)\n",
    "#     x_mean = np.mean(x)\n",
    "#     y_mean = np.mean(y)\n",
    "#     numerator_a = np.sum(x * y) - n * x_mean * y_mean\n",
    "#     denominator_a = np.sum(x**2) - n * x_mean**2\n",
    "#     a = numerator_a / denominator_a\n",
    "#     b = y_mean - a * x_mean\n",
    "#     return a, b\n",
    "\n",
    "if __name__ == '__main__':\n",
    "    import matplotlib.pyplot as plt\n",
    "    import numpy as np\n",
    "    \n",
    "    x =[2.42493956,  1.70595869,  4.35508525, -0.4889147,  2.20949005, -0.72856668,\n",
    " -1.03637142,  1.59390898,  3.1958148,  -1.41834916]\n",
    "    y = [0.20468824, 0.51542389, 2.63722645, 2.38392122, 0.27196232, 1.513244,\n",
    " 0.62859029, 1.09232524, 0.42321726, 0.98035415]\n",
    "    \n",
    "\n",
    "    a, b = my_lin_fit(x, y) \n",
    "    \n",
    "    plt.plot(x, y, 'kx')\n",
    "    \n",
    "    xp = np.arange(-2, 5, 0.1)\n",
    "    plt.plot(xp, a * xp + b, 'r-')\n",
    "    \n",
    "    print(f\"My fit: a={a} and b={b}\")\n",
    "    plt.show()"
   ]
  },
  {
   "cell_type": "code",
   "execution_count": 207,
   "id": "1092e58f",
   "metadata": {},
   "outputs": [
    {
     "name": "stdout",
     "output_type": "stream",
     "text": [
      "[2, 8, 15, 16, 25]\n",
      "0.6 2.2\n"
     ]
    }
   ],
   "source": [
    "x = [1, 2, 3, 4, 5]\n",
    "y = [2, 4, 5, 4, 5]\n",
    "\n",
    "xy = [xi*yi for xi, yi in zip(x, y)]\n",
    "\n",
    "\n",
    "N = len(x)\n",
    "sum_x = sum(x)\n",
    "xy_sum = sum(xy)\n",
    "sum_x_square = sum(xi**2 for xi in x)\n",
    "sum_y = sum(y)\n",
    "print(xy)\n",
    "\n",
    "\n",
    "a = ((N*xy_sum) - (sum_x*sum_y)) / (N*(sum_x_square) - (sum_x**2)) \n",
    "\n",
    "b = np.mean(y) - a*np.mean(x)\n",
    "\n",
    "print(a, b)\n",
    "    \n",
    "\n"
   ]
  },
  {
   "cell_type": "code",
   "execution_count": 262,
   "id": "02faba12",
   "metadata": {},
   "outputs": [
    {
     "name": "stdout",
     "output_type": "stream",
     "text": [
      "[2.3, 3.5, 4.7, 5.8999999999999995]\n"
     ]
    }
   ],
   "source": [
    "x_test = [1.5, 2.5, 3.5, 4.5]\n",
    "\n",
    "a, b = 1.2, 0.5\n",
    "\n",
    "y = []\n",
    "\n",
    "for x in x_test:\n",
    "    y.append(a*x+b)\n",
    "\n",
    "print(y)"
   ]
  },
  {
   "cell_type": "code",
   "execution_count": 6,
   "id": "a1393eee",
   "metadata": {},
   "outputs": [
    {
     "ename": "SyntaxError",
     "evalue": "invalid syntax (<string>, line 1)",
     "output_type": "error",
     "traceback": [
      "\u001b[0;31m---------------------------------------------------------------------------\u001b[0m\n\u001b[0;31mSyntaxError\u001b[0m                               Traceback (most recent call last)",
      "File \u001b[0;34m/Users/niazahmad/miniconda3/envs/jupyterlab-debugger/lib/python3.11/ast.py\u001b[0m, in \u001b[0;32mparse\u001b[0m:\nLine \u001b[0;34m50\u001b[0m:    \u001b[34mreturn\u001b[39;49;00m \u001b[36mcompile\u001b[39;49;00m(source, filename, mode, flags,\u001b[37m\u001b[39;49;00m\n",
      "\u001b[0;31mSyntaxError\u001b[0m: invalid syntax (<string>, line 1)\n\u001b[0;31m---------------------------------------------------------------------------\u001b[0m",
      "There may be Ipython magics in your code, this feature is not supported in xeus-python raw mode! Please consider switching to xeus-python normal mode or removing these magics"
     ]
    }
   ],
   "source": [
    "%matplotlib widget"
   ]
  },
  {
   "cell_type": "code",
   "execution_count": 28,
   "id": "d5340a31",
   "metadata": {},
   "outputs": [
    {
     "name": "stdout",
     "output_type": "stream",
     "text": [
      "a = 0.6, b = 2.2\n"
     ]
    }
   ],
   "source": [
    "\n",
    "import matplotlib.pyplot as plt\n",
    "\n",
    "import numpy as np \n",
    "\n",
    "x = [1, 2, 3, 4, 5]\n",
    "y = [2, 4, 5, 4, 5]\n",
    "\n",
    "x_mean = np.mean(x)\n",
    "y_mean = np.mean(y)\n",
    "\n",
    "\n",
    "def fit_line(x, y):\n",
    "    num = 0\n",
    "    den = 0\n",
    "    for xi, yi in zip(x, y):\n",
    "        num += (xi - x_mean)*(yi - y_mean)\n",
    "    for xi in x:\n",
    "        den += (xi - x_mean)**2\n",
    "\n",
    "    a = num/den\n",
    "    b = y_mean - a*x_mean\n",
    "\n",
    "    return a, b\n",
    "\n",
    "a, b = fit_line(x, y)\n",
    "\n",
    "\n",
    "print(f\"a = {a}, b = {b}\")\n",
    "\n",
    "# plt.scatter(x, y, color='blue', s=100)\n",
    "# plt.show()\n",
    "\n",
    "\n",
    "y_fitted = []\n",
    "for xi in x:\n",
    "    y_fitted.append(a * xi + b)\n",
    "\n",
    "plt.scatter(x, y, s=100, color='blue', label=\"Data points\")\n",
    "plt.plot(x, y_fitted, label=\"Line\")\n",
    "plt.xlabel('x')\n",
    "plt.ylabel('y', rotation=0, labelpad=15)\n",
    "plt.title('My Plot')\n",
    "plt.legend()\n",
    "plt.grid(True)\n",
    "plt.show()\n",
    "\n",
    "\n",
    "\n"
   ]
  },
  {
   "cell_type": "code",
   "execution_count": null,
   "id": "8aea5f4a",
   "metadata": {},
   "outputs": [
    {
     "name": "stdout",
     "output_type": "stream",
     "text": [
      "0.08199999999999995\n"
     ]
    },
    {
     "ename": "",
     "evalue": "",
     "output_type": "error",
     "traceback": [
      "\u001b[1;31mThe Kernel crashed while executing code in the current cell or a previous cell. \n",
      "\u001b[1;31mPlease review the code in the cell(s) to identify a possible cause of the failure. \n",
      "\u001b[1;31mClick <a href='https://aka.ms/vscodeJupyterKernelCrash'>here</a> for more info. \n",
      "\u001b[1;31mView Jupyter <a href='command:jupyter.viewOutput'>log</a> for further details."
     ]
    }
   ],
   "source": [
    "x_train = [1, 2, 3, 4]\n",
    "y_train = [2.1, 3.9, 6.2, 7.8]\n",
    "\n",
    "\n",
    "def fit_line(x, y):\n",
    "    x_mean = np.mean(x)\n",
    "    y_mean = np.mean(y)\n",
    "\n",
    "    num = 0 \n",
    "    den = 0\n",
    "    for xi, yi in zip(x, y):\n",
    "        num += (xi - x_mean)*(yi - y_mean)\n",
    "\n",
    "    for xi in x:\n",
    "        den += (xi - x_mean)**2\n",
    "    \n",
    "    a = num/den\n",
    "    b = y_mean - a*x_mean\n",
    "    return a, b \n",
    "\n",
    "a, b = fit_line(x_train, y_train)\n",
    "\n",
    "y_pred = []\n",
    "\n",
    "for xi in x_train:\n",
    "    y_pred.append(a*xi+b)\n",
    "error = 0\n",
    "for y, y_pred in zip(y_train, y_pred):\n",
    "    error += (y - y_pred)**2\n",
    "\n",
    "print(error)\n"
   ]
  },
  {
   "cell_type": "code",
   "execution_count": null,
   "id": "7af29ce0",
   "metadata": {},
   "outputs": [
    {
     "name": "stdout",
     "output_type": "stream",
     "text": [
      "2\n",
      "3\n",
      "3\n",
      "2\n",
      "1\n",
      "3\n"
     ]
    }
   ],
   "source": [
    "\n",
    "class My_Random:\n",
    "    def __init__(self):\n",
    "        self.seed = 0\n",
    "    \n",
    "    def set_seed(self, seed):\n",
    "        self.seed = seed\n",
    "\n",
    "    def dice(self):\n",
    "        sq = str(self.seed**2)\n",
    "        sq_8 = sq.zfill(8)\n",
    "        middle = int(sq_8[2:6])\n",
    "        self.seed = middle\n",
    "        return (middle%6)+1\n",
    "\n",
    "my_rand = My_Random()\n",
    "my_rand.set_seed(1234)\n",
    "print(my_rand.dice())  # First roll\n",
    "print(my_rand.dice())  # Second roll\n",
    "print(my_rand.dice())\n",
    "print(my_rand.dice())\n",
    "print(my_rand.dice())\n",
    "print(my_rand.dice())\n"
   ]
  }
 ],
 "metadata": {
  "kernelspec": {
   "display_name": "Python 3.11 (XPython Raw)",
   "language": "python",
   "name": "xpython-raw"
  },
  "language_info": {
   "file_extension": ".py",
   "mimetype": "text/x-python",
   "name": "python",
   "version": "3.11.7"
  }
 },
 "nbformat": 4,
 "nbformat_minor": 5
}
